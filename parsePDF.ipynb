{
 "cells": [
  {
   "cell_type": "markdown",
   "metadata": {},
   "source": [
    "# **Split PDF into 50 page PDFs**"
   ]
  },
  {
   "cell_type": "code",
   "execution_count": 3,
   "metadata": {},
   "outputs": [],
   "source": [
    "# Use this to split the PDF into smaller chunks\n",
    "# Splits the PDF into 50 page chunks for use with LandingAI\n",
    "\n",
    "import PyPDF2\n",
    "import os\n",
    "\n",
    "pdf_file = open('pdf/Pathfinder Core Rulebook.pdf', 'rb')\n",
    "pdf_reader = PyPDF2.PdfReader(pdf_file)\n",
    "total_pages = len(pdf_reader.pages)\n",
    "old_name = 'Pathfinder Core Rulebook'\n",
    "\n",
    "save_dir = f'splitPDF/{old_name}'\n",
    "\n",
    "if not os.path.exists(save_dir):\n",
    "    os.makedirs(save_dir)\n",
    "\n",
    "for start in range(0, total_pages, 50):\n",
    "   end = min(start + 49, total_pages - 1)\n",
    "   pdf_writer = PyPDF2.PdfWriter()\n",
    "   \n",
    "   for page_num in range(start, end + 1):\n",
    "       pdf_writer.add_page(pdf_reader.pages[page_num])\n",
    "   \n",
    "   output_filename = f\"{old_name}_{start + 1}_{end + 1}.pdf\"\n",
    "   with open(output_filename, 'wb') as output_file:\n",
    "       pdf_writer.write(os.path.join(save_dir, output_filename))\n",
    "\n",
    "pdf_file.close()"
   ]
  },
  {
   "cell_type": "markdown",
   "metadata": {},
   "source": [
    "## **Install required library for LandingAI**"
   ]
  },
  {
   "cell_type": "code",
   "execution_count": null,
   "metadata": {},
   "outputs": [],
   "source": [
    "!pip install agentic-doc"
   ]
  },
  {
   "cell_type": "markdown",
   "metadata": {},
   "source": [
    "## **Directory of split PDF to parse with LandingAI**"
   ]
  },
  {
   "cell_type": "code",
   "execution_count": 4,
   "metadata": {},
   "outputs": [],
   "source": [
    "path_to_split_pdf_dir = 'splitPDF/Legends'"
   ]
  },
  {
   "cell_type": "code",
   "execution_count": 56,
   "metadata": {},
   "outputs": [
    {
     "name": "stdout",
     "output_type": "stream",
     "text": [
      "\u001b[2m2025-06-10 18:09:52\u001b[0m [info   \u001b[0m] \u001b[1mAPI key is valid.             \u001b[0m [\u001b[0m\u001b[1m\u001b[34magentic_doc.utils\u001b[0m]\u001b[0m (utils.py:44)\n",
      "\u001b[2m2025-06-10 18:09:52\u001b[0m [info   \u001b[0m] \u001b[1mParsing 1 documents           \u001b[0m [\u001b[0m\u001b[1m\u001b[34magentic_doc.parse\u001b[0m]\u001b[0m (parse.py:233)\n"
     ]
    },
    {
     "name": "stderr",
     "output_type": "stream",
     "text": [
      "Parsing documents:   0%|          | 0/1 [00:00<?, ?it/s]"
     ]
    },
    {
     "name": "stdout",
     "output_type": "stream",
     "text": [
      "\u001b[2m2025-06-10 18:09:52\u001b[0m [info   \u001b[0m] \u001b[1mSplitting PDF: 'splitPDF/Legends/Pathfinder Legends_101_130.pdf' into 3 parts under '/var/folders/kd/8jptvn1s1c7dqlrnrwvj24100000gn/T/tmppyy9w804'\u001b[0m [\u001b[0m\u001b[1m\u001b[34magentic_doc.utils\u001b[0m]\u001b[0m (utils.py:216)\n",
      "\u001b[2m2025-06-10 18:09:52\u001b[0m [info   \u001b[0m] \u001b[1mCreated /var/folders/kd/8jptvn1s1c7dqlrnrwvj24100000gn/T/tmppyy9w804/Pathfinder Legends_101_130_1.pdf\u001b[0m [\u001b[0m\u001b[1m\u001b[34magentic_doc.utils\u001b[0m]\u001b[0m (utils.py:232)\n",
      "\u001b[2m2025-06-10 18:09:52\u001b[0m [info   \u001b[0m] \u001b[1mCreated /var/folders/kd/8jptvn1s1c7dqlrnrwvj24100000gn/T/tmppyy9w804/Pathfinder Legends_101_130_2.pdf\u001b[0m [\u001b[0m\u001b[1m\u001b[34magentic_doc.utils\u001b[0m]\u001b[0m (utils.py:232)\n",
      "\u001b[2m2025-06-10 18:09:52\u001b[0m [info   \u001b[0m] \u001b[1mCreated /var/folders/kd/8jptvn1s1c7dqlrnrwvj24100000gn/T/tmppyy9w804/Pathfinder Legends_101_130_3.pdf\u001b[0m [\u001b[0m\u001b[1m\u001b[34magentic_doc.utils\u001b[0m]\u001b[0m (utils.py:232)\n",
      "\u001b[2m2025-06-10 18:09:52\u001b[0m [info   \u001b[0m] \u001b[1mStart parsing document part: 'File name: Pathfinder Legends_101_130_1.pdf\tPage: [0:9]'\u001b[0m [\u001b[0m\u001b[1m\u001b[34magentic_doc.parse\u001b[0m]\u001b[0m (parse.py:468)\n",
      "\u001b[2m2025-06-10 18:09:52\u001b[0m [info   \u001b[0m] \u001b[1mStart parsing document part: 'File name: Pathfinder Legends_101_130_2.pdf\tPage: [10:19]'\u001b[0m [\u001b[0m\u001b[1m\u001b[34magentic_doc.parse\u001b[0m]\u001b[0m (parse.py:468)\n"
     ]
    },
    {
     "name": "stderr",
     "output_type": "stream",
     "text": [
      "\n"
     ]
    },
    {
     "name": "stdout",
     "output_type": "stream",
     "text": [
      "\u001b[2m2025-06-10 18:09:52\u001b[0m [info   \u001b[0m] \u001b[1mStart parsing document part: 'File name: Pathfinder Legends_101_130_3.pdf\tPage: [20:29]'\u001b[0m [\u001b[0m\u001b[1m\u001b[34magentic_doc.parse\u001b[0m]\u001b[0m (parse.py:468)\n"
     ]
    },
    {
     "name": "stderr",
     "output_type": "stream",
     "text": [
      "Parsing document parts from 'Pathfinder Legends_101_130.pdf':   0%|          | 0/3 [00:00<?, ?it/s]\u001b[A"
     ]
    },
    {
     "name": "stdout",
     "output_type": "stream",
     "text": [
      "HTTP Request: POST https://api.va.landing.ai/v1/tools/agentic-document-analysis \"HTTP/1.1 200 OK\" (_client.py:1025)\n",
      "\u001b[2m2025-06-10 18:10:12\u001b[0m [info   \u001b[0m] \u001b[1mTime taken to successfully parse a document chunk: 19.34 seconds\u001b[0m [\u001b[0m\u001b[1m\u001b[34magentic_doc.parse\u001b[0m]\u001b[0m (parse.py:552)\n",
      "\u001b[2m2025-06-10 18:10:12\u001b[0m [info   \u001b[0m] \u001b[1mSuccessfully parsed document part: 'File name: Pathfinder Legends_101_130_1.pdf\tPage: [0:9]'\u001b[0m [\u001b[0m\u001b[1m\u001b[34magentic_doc.parse\u001b[0m]\u001b[0m (parse.py:474)\n"
     ]
    },
    {
     "name": "stderr",
     "output_type": "stream",
     "text": []
    },
    {
     "name": "stdout",
     "output_type": "stream",
     "text": [
      "HTTP Request: POST https://api.va.landing.ai/v1/tools/agentic-document-analysis \"HTTP/1.1 200 OK\" (_client.py:1025)\n",
      "\u001b[2m2025-06-10 18:10:15\u001b[0m [info   \u001b[0m] \u001b[1mTime taken to successfully parse a document chunk: 22.79 seconds\u001b[0m [\u001b[0m\u001b[1m\u001b[34magentic_doc.parse\u001b[0m]\u001b[0m (parse.py:552)\n",
      "\u001b[2m2025-06-10 18:10:15\u001b[0m [info   \u001b[0m] \u001b[1mSuccessfully parsed document part: 'File name: Pathfinder Legends_101_130_2.pdf\tPage: [10:19]'\u001b[0m [\u001b[0m\u001b[1m\u001b[34magentic_doc.parse\u001b[0m]\u001b[0m (parse.py:474)\n"
     ]
    },
    {
     "name": "stderr",
     "output_type": "stream",
     "text": []
    },
    {
     "name": "stdout",
     "output_type": "stream",
     "text": [
      "HTTP Request: POST https://api.va.landing.ai/v1/tools/agentic-document-analysis \"HTTP/1.1 200 OK\" (_client.py:1025)\n",
      "\u001b[2m2025-06-10 18:10:41\u001b[0m [info   \u001b[0m] \u001b[1mTime taken to successfully parse a document chunk: 48.37 seconds\u001b[0m [\u001b[0m\u001b[1m\u001b[34magentic_doc.parse\u001b[0m]\u001b[0m (parse.py:552)\n",
      "\u001b[2m2025-06-10 18:10:41\u001b[0m [info   \u001b[0m] \u001b[1mSuccessfully parsed document part: 'File name: Pathfinder Legends_101_130_3.pdf\tPage: [20:29]'\u001b[0m [\u001b[0m\u001b[1m\u001b[34magentic_doc.parse\u001b[0m]\u001b[0m (parse.py:474)\n"
     ]
    },
    {
     "name": "stderr",
     "output_type": "stream",
     "text": [
      "Parsing document parts from 'Pathfinder Legends_101_130.pdf': 100%|██████████| 3/3 [00:48<00:00, 16.13s/it]\n",
      "Parsing documents: 100%|██████████| 1/1 [00:48<00:00, 48.65s/it]\n"
     ]
    },
    {
     "name": "stdout",
     "output_type": "stream",
     "text": [
      "\u001b[2m2025-06-10 18:10:41\u001b[0m [info   \u001b[0m] \u001b[1mAPI key is valid.             \u001b[0m [\u001b[0m\u001b[1m\u001b[34magentic_doc.utils\u001b[0m]\u001b[0m (utils.py:44)\n",
      "\u001b[2m2025-06-10 18:10:41\u001b[0m [info   \u001b[0m] \u001b[1mParsing 1 documents           \u001b[0m [\u001b[0m\u001b[1m\u001b[34magentic_doc.parse\u001b[0m]\u001b[0m (parse.py:233)\n"
     ]
    },
    {
     "name": "stderr",
     "output_type": "stream",
     "text": [
      "Parsing documents:   0%|          | 0/1 [00:00<?, ?it/s]"
     ]
    },
    {
     "name": "stdout",
     "output_type": "stream",
     "text": [
      "\u001b[2m2025-06-10 18:10:41\u001b[0m [info   \u001b[0m] \u001b[1mSplitting PDF: 'splitPDF/Legends/Pathfinder Legends_0_49.pdf' into 5 parts under '/var/folders/kd/8jptvn1s1c7dqlrnrwvj24100000gn/T/tmppqwln6yu'\u001b[0m [\u001b[0m\u001b[1m\u001b[34magentic_doc.utils\u001b[0m]\u001b[0m (utils.py:216)\n",
      "\u001b[2m2025-06-10 18:10:41\u001b[0m [info   \u001b[0m] \u001b[1mCreated /var/folders/kd/8jptvn1s1c7dqlrnrwvj24100000gn/T/tmppqwln6yu/Pathfinder Legends_0_49_1.pdf\u001b[0m [\u001b[0m\u001b[1m\u001b[34magentic_doc.utils\u001b[0m]\u001b[0m (utils.py:232)\n",
      "\u001b[2m2025-06-10 18:10:41\u001b[0m [info   \u001b[0m] \u001b[1mCreated /var/folders/kd/8jptvn1s1c7dqlrnrwvj24100000gn/T/tmppqwln6yu/Pathfinder Legends_0_49_2.pdf\u001b[0m [\u001b[0m\u001b[1m\u001b[34magentic_doc.utils\u001b[0m]\u001b[0m (utils.py:232)\n",
      "\u001b[2m2025-06-10 18:10:41\u001b[0m [info   \u001b[0m] \u001b[1mCreated /var/folders/kd/8jptvn1s1c7dqlrnrwvj24100000gn/T/tmppqwln6yu/Pathfinder Legends_0_49_3.pdf\u001b[0m [\u001b[0m\u001b[1m\u001b[34magentic_doc.utils\u001b[0m]\u001b[0m (utils.py:232)\n",
      "\u001b[2m2025-06-10 18:10:41\u001b[0m [info   \u001b[0m] \u001b[1mCreated /var/folders/kd/8jptvn1s1c7dqlrnrwvj24100000gn/T/tmppqwln6yu/Pathfinder Legends_0_49_4.pdf\u001b[0m [\u001b[0m\u001b[1m\u001b[34magentic_doc.utils\u001b[0m]\u001b[0m (utils.py:232)\n",
      "\u001b[2m2025-06-10 18:10:41\u001b[0m [info   \u001b[0m] \u001b[1mCreated /var/folders/kd/8jptvn1s1c7dqlrnrwvj24100000gn/T/tmppqwln6yu/Pathfinder Legends_0_49_5.pdf\u001b[0m [\u001b[0m\u001b[1m\u001b[34magentic_doc.utils\u001b[0m]\u001b[0m (utils.py:232)\n",
      "\u001b[2m2025-06-10 18:10:41\u001b[0m [info   \u001b[0m] \u001b[1mStart parsing document part: 'File name: Pathfinder Legends_0_49_1.pdf\tPage: [0:9]'\u001b[0m [\u001b[0m\u001b[1m\u001b[34magentic_doc.parse\u001b[0m]\u001b[0m (parse.py:468)\n",
      "\u001b[2m2025-06-10 18:10:41\u001b[0m [info   \u001b[0m] \u001b[1mStart parsing document part: 'File name: Pathfinder Legends_0_49_2.pdf\tPage: [10:19]'\u001b[0m [\u001b[0m\u001b[1m\u001b[34magentic_doc.parse\u001b[0m]\u001b[0m (parse.py:468)\n"
     ]
    },
    {
     "name": "stderr",
     "output_type": "stream",
     "text": [
      "\n"
     ]
    },
    {
     "name": "stdout",
     "output_type": "stream",
     "text": [
      "\u001b[2m2025-06-10 18:10:41\u001b[0m [info   \u001b[0m] \u001b[1mStart parsing document part: 'File name: Pathfinder Legends_0_49_3.pdf\tPage: [20:29]'\u001b[0m [\u001b[0m\u001b[1m\u001b[34magentic_doc.parse\u001b[0m]\u001b[0m (parse.py:468)\n"
     ]
    },
    {
     "name": "stderr",
     "output_type": "stream",
     "text": [
      "Parsing document parts from 'Pathfinder Legends_0_49.pdf':   0%|          | 0/5 [00:00<?, ?it/s]\u001b[A"
     ]
    },
    {
     "name": "stdout",
     "output_type": "stream",
     "text": [
      "\u001b[2m2025-06-10 18:10:41\u001b[0m [info   \u001b[0m] \u001b[1mStart parsing document part: 'File name: Pathfinder Legends_0_49_4.pdf\tPage: [30:39]'\u001b[0m [\u001b[0m\u001b[1m\u001b[34magentic_doc.parse\u001b[0m]\u001b[0m (parse.py:468)\n",
      "\u001b[2m2025-06-10 18:10:41\u001b[0m [info   \u001b[0m] \u001b[1mStart parsing document part: 'File name: Pathfinder Legends_0_49_5.pdf\tPage: [40:49]'\u001b[0m [\u001b[0m\u001b[1m\u001b[34magentic_doc.parse\u001b[0m]\u001b[0m (parse.py:468)\n",
      "HTTP Request: POST https://api.va.landing.ai/v1/tools/agentic-document-analysis \"HTTP/1.1 200 OK\" (_client.py:1025)\n",
      "HTTP Request: POST https://api.va.landing.ai/v1/tools/agentic-document-analysis \"HTTP/1.1 200 OK\" (_client.py:1025)\n",
      "\u001b[2m2025-06-10 18:11:02\u001b[0m [info   \u001b[0m] \u001b[1mTime taken to successfully parse a document chunk: 20.59 seconds\u001b[0m [\u001b[0m\u001b[1m\u001b[34magentic_doc.parse\u001b[0m]\u001b[0m (parse.py:552)\n",
      "\u001b[2m2025-06-10 18:11:02\u001b[0m [info   \u001b[0m] \u001b[1mSuccessfully parsed document part: 'File name: Pathfinder Legends_0_49_5.pdf\tPage: [40:49]'\u001b[0m [\u001b[0m\u001b[1m\u001b[34magentic_doc.parse\u001b[0m]\u001b[0m (parse.py:474)\n",
      "\u001b[2m2025-06-10 18:11:02\u001b[0m [info   \u001b[0m] \u001b[1mTime taken to successfully parse a document chunk: 20.64 seconds\u001b[0m [\u001b[0m\u001b[1m\u001b[34magentic_doc.parse\u001b[0m]\u001b[0m (parse.py:552)\n",
      "\u001b[2m2025-06-10 18:11:02\u001b[0m [info   \u001b[0m] \u001b[1mSuccessfully parsed document part: 'File name: Pathfinder Legends_0_49_4.pdf\tPage: [30:39]'\u001b[0m [\u001b[0m\u001b[1m\u001b[34magentic_doc.parse\u001b[0m]\u001b[0m (parse.py:474)\n",
      "HTTP Request: POST https://api.va.landing.ai/v1/tools/agentic-document-analysis \"HTTP/1.1 200 OK\" (_client.py:1025)\n",
      "\u001b[2m2025-06-10 18:11:08\u001b[0m [info   \u001b[0m] \u001b[1mTime taken to successfully parse a document chunk: 26.83 seconds\u001b[0m [\u001b[0m\u001b[1m\u001b[34magentic_doc.parse\u001b[0m]\u001b[0m (parse.py:552)\n",
      "\u001b[2m2025-06-10 18:11:08\u001b[0m [info   \u001b[0m] \u001b[1mSuccessfully parsed document part: 'File name: Pathfinder Legends_0_49_3.pdf\tPage: [20:29]'\u001b[0m [\u001b[0m\u001b[1m\u001b[34magentic_doc.parse\u001b[0m]\u001b[0m (parse.py:474)\n",
      "HTTP Request: POST https://api.va.landing.ai/v1/tools/agentic-document-analysis \"HTTP/1.1 200 OK\" (_client.py:1025)\n",
      "\u001b[2m2025-06-10 18:11:09\u001b[0m [info   \u001b[0m] \u001b[1mTime taken to successfully parse a document chunk: 27.09 seconds\u001b[0m [\u001b[0m\u001b[1m\u001b[34magentic_doc.parse\u001b[0m]\u001b[0m (parse.py:552)\n",
      "\u001b[2m2025-06-10 18:11:09\u001b[0m [info   \u001b[0m] \u001b[1mSuccessfully parsed document part: 'File name: Pathfinder Legends_0_49_1.pdf\tPage: [0:9]'\u001b[0m [\u001b[0m\u001b[1m\u001b[34magentic_doc.parse\u001b[0m]\u001b[0m (parse.py:474)\n"
     ]
    },
    {
     "name": "stderr",
     "output_type": "stream",
     "text": []
    },
    {
     "name": "stdout",
     "output_type": "stream",
     "text": [
      "HTTP Request: POST https://api.va.landing.ai/v1/tools/agentic-document-analysis \"HTTP/1.1 200 OK\" (_client.py:1025)\n",
      "\u001b[2m2025-06-10 18:11:30\u001b[0m [info   \u001b[0m] \u001b[1mTime taken to successfully parse a document chunk: 48.75 seconds\u001b[0m [\u001b[0m\u001b[1m\u001b[34magentic_doc.parse\u001b[0m]\u001b[0m (parse.py:552)\n",
      "\u001b[2m2025-06-10 18:11:30\u001b[0m [info   \u001b[0m] \u001b[1mSuccessfully parsed document part: 'File name: Pathfinder Legends_0_49_2.pdf\tPage: [10:19]'\u001b[0m [\u001b[0m\u001b[1m\u001b[34magentic_doc.parse\u001b[0m]\u001b[0m (parse.py:474)\n"
     ]
    },
    {
     "name": "stderr",
     "output_type": "stream",
     "text": [
      "Parsing document parts from 'Pathfinder Legends_0_49.pdf': 100%|██████████| 5/5 [00:48<00:00,  9.75s/it]\n",
      "Parsing documents: 100%|██████████| 1/1 [00:48<00:00, 48.94s/it]\n"
     ]
    }
   ],
   "source": [
    "from agentic_doc.parse import parse\n",
    "import os\n",
    "import json\n",
    "\n",
    "fn = 'Legends'\n",
    "\n",
    "if not os.path.exists(f\"data/{fn}\"):\n",
    "    os.makedirs(f\"data/{fn}\")\n",
    "\n",
    "\n",
    "for file in os.listdir(path_to_split_pdf_dir):\n",
    "    old_name = file.split('.')[0]\n",
    "    result = parse(f\"{path_to_split_pdf_dir}/{file}\")\n",
    "    all_chunks = []\n",
    "\n",
    "    # Parse through the results and save as json\n",
    "    for chunk in result[0].chunks:\n",
    "        # Convert each chunk to a dictionary using model_dump()\n",
    "        chunk_dict = chunk.model_dump()\n",
    "        all_chunks.append(chunk_dict)\n",
    "\n",
    "    # Write all chunks to a single JSON file\n",
    "    with open(f'data/{fn}/{old_name}.json', 'w') as f:\n",
    "        json.dump(all_chunks, f, indent=2)\n",
    "\n",
    "    with open(f'data/{fn}/{old_name}.md', 'w') as f:\n",
    "        f.write(result[0].markdown)\n",
    "\n",
    "\n"
   ]
  },
  {
   "cell_type": "markdown",
   "metadata": {},
   "source": [
    "### Testing"
   ]
  },
  {
   "cell_type": "code",
   "execution_count": 54,
   "metadata": {},
   "outputs": [],
   "source": [
    "# all_chunks = []\n",
    "\n",
    "\n",
    "#     # Parse through the results and save as json\n",
    "# for chunk in result[0].chunks:\n",
    "#     # Convert each chunk to a dictionary using model_dump()\n",
    "#     chunk_dict = chunk.model_dump()\n",
    "#     all_chunks.append(chunk_dict)\n",
    "\n",
    "# # Write all chunks to a single JSON file\n",
    "# with open(f'data/{fn}/Pathfinder Legends_51_100.json', 'w') as f:\n",
    "#     json.dump(all_chunks, f, indent=2)"
   ]
  },
  {
   "cell_type": "code",
   "execution_count": 55,
   "metadata": {},
   "outputs": [],
   "source": [
    "# with open(f'data/{fn}/Pathfinder Legends_51_100.md', 'w') as f:\n",
    "#     f.write(result[0].markdown)"
   ]
  },
  {
   "cell_type": "code",
   "execution_count": null,
   "metadata": {},
   "outputs": [],
   "source": []
  }
 ],
 "metadata": {
  "kernelspec": {
   "display_name": "all",
   "language": "python",
   "name": "python3"
  },
  "language_info": {
   "codemirror_mode": {
    "name": "ipython",
    "version": 3
   },
   "file_extension": ".py",
   "mimetype": "text/x-python",
   "name": "python",
   "nbconvert_exporter": "python",
   "pygments_lexer": "ipython3",
   "version": "3.11.12"
  }
 },
 "nbformat": 4,
 "nbformat_minor": 2
}
